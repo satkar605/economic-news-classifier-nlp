{
 "cells": [
  {
   "cell_type": "markdown",
   "id": "99143883",
   "metadata": {},
   "source": [
    "# Text Classification with Naive Bayes, Logistic Regression, SVM\n",
    "\n",
    "This notebook demonstrates text classification using three different algorithms:\n",
    "\n",
    "- **Mulitnominal Naive Bayes**\n",
    "- **Logistic Regression**\n",
    "- **Support Vector Machines (SVM)**\n",
    "\n",
    "### The Dataset\n",
    "- **Economic news articles** from Figure-Eight\n",
    "- **~8000 articles** tagged as relevant/not relevant to US Economy\n",
    "- **Binary classification problem:** relevant (1) vs non-relevant (0) "
   ]
  },
  {
   "cell_type": "code",
   "execution_count": 1,
   "id": "426045ba",
   "metadata": {
    "collapsed": true,
    "jupyter": {
     "outputs_hidden": true
    }
   },
   "outputs": [
    {
     "name": "stdout",
     "output_type": "stream",
     "text": [
      "Collecting numpy\n",
      "  Using cached numpy-2.3.2-cp311-cp311-macosx_14_0_arm64.whl.metadata (62 kB)\n",
      "Collecting pandas\n",
      "  Downloading pandas-2.3.2-cp311-cp311-macosx_11_0_arm64.whl.metadata (91 kB)\n",
      "Collecting scikit-learn\n",
      "  Downloading scikit_learn-1.7.1-cp311-cp311-macosx_12_0_arm64.whl.metadata (11 kB)\n",
      "Collecting matplotlib\n",
      "  Downloading matplotlib-3.10.5-cp311-cp311-macosx_11_0_arm64.whl.metadata (11 kB)\n",
      "Requirement already satisfied: python-dateutil>=2.8.2 in /Users/satkarkarki/.venv/lib/python3.11/site-packages (from pandas) (2.9.0.post0)\n",
      "Collecting pytz>=2020.1 (from pandas)\n",
      "  Using cached pytz-2025.2-py2.py3-none-any.whl.metadata (22 kB)\n",
      "Collecting tzdata>=2022.7 (from pandas)\n",
      "  Using cached tzdata-2025.2-py2.py3-none-any.whl.metadata (1.4 kB)\n",
      "Collecting scipy>=1.8.0 (from scikit-learn)\n",
      "  Downloading scipy-1.16.1-cp311-cp311-macosx_14_0_arm64.whl.metadata (61 kB)\n",
      "Collecting joblib>=1.2.0 (from scikit-learn)\n",
      "  Using cached joblib-1.5.1-py3-none-any.whl.metadata (5.6 kB)\n",
      "Collecting threadpoolctl>=3.1.0 (from scikit-learn)\n",
      "  Using cached threadpoolctl-3.6.0-py3-none-any.whl.metadata (13 kB)\n",
      "Collecting contourpy>=1.0.1 (from matplotlib)\n",
      "  Downloading contourpy-1.3.3-cp311-cp311-macosx_11_0_arm64.whl.metadata (5.5 kB)\n",
      "Collecting cycler>=0.10 (from matplotlib)\n",
      "  Using cached cycler-0.12.1-py3-none-any.whl.metadata (3.8 kB)\n",
      "Collecting fonttools>=4.22.0 (from matplotlib)\n",
      "  Downloading fonttools-4.59.1-cp311-cp311-macosx_10_9_universal2.whl.metadata (108 kB)\n",
      "Collecting kiwisolver>=1.3.1 (from matplotlib)\n",
      "  Downloading kiwisolver-1.4.9-cp311-cp311-macosx_11_0_arm64.whl.metadata (6.3 kB)\n",
      "Requirement already satisfied: packaging>=20.0 in /Users/satkarkarki/.venv/lib/python3.11/site-packages (from matplotlib) (25.0)\n",
      "Collecting pillow>=8 (from matplotlib)\n",
      "  Downloading pillow-11.3.0-cp311-cp311-macosx_11_0_arm64.whl.metadata (9.0 kB)\n",
      "Collecting pyparsing>=2.3.1 (from matplotlib)\n",
      "  Using cached pyparsing-3.2.3-py3-none-any.whl.metadata (5.0 kB)\n",
      "Requirement already satisfied: six>=1.5 in /Users/satkarkarki/.venv/lib/python3.11/site-packages (from python-dateutil>=2.8.2->pandas) (1.17.0)\n",
      "Using cached numpy-2.3.2-cp311-cp311-macosx_14_0_arm64.whl (5.4 MB)\n",
      "Downloading pandas-2.3.2-cp311-cp311-macosx_11_0_arm64.whl (10.8 MB)\n",
      "\u001b[2K   \u001b[90m━━━━━━━━━━━━━━━━━━━━━━━━━━━━━━━━━━━━━━━━\u001b[0m \u001b[32m10.8/10.8 MB\u001b[0m \u001b[31m11.3 MB/s\u001b[0m  \u001b[33m0:00:00\u001b[0meta \u001b[36m0:00:01\u001b[0m\n",
      "\u001b[?25hDownloading scikit_learn-1.7.1-cp311-cp311-macosx_12_0_arm64.whl (8.7 MB)\n",
      "\u001b[2K   \u001b[90m━━━━━━━━━━━━━━━━━━━━━━━━━━━━━━━━━━━━━━━━\u001b[0m \u001b[32m8.7/8.7 MB\u001b[0m \u001b[31m11.2 MB/s\u001b[0m  \u001b[33m0:00:00\u001b[0m eta \u001b[36m0:00:01\u001b[0m\n",
      "\u001b[?25hDownloading matplotlib-3.10.5-cp311-cp311-macosx_11_0_arm64.whl (8.1 MB)\n",
      "\u001b[2K   \u001b[90m━━━━━━━━━━━━━━━━━━━━━━━━━━━━━━━━━━━━━━━━\u001b[0m \u001b[32m8.1/8.1 MB\u001b[0m \u001b[31m11.1 MB/s\u001b[0m  \u001b[33m0:00:00\u001b[0m eta \u001b[36m0:00:01\u001b[0m\n",
      "\u001b[?25hDownloading contourpy-1.3.3-cp311-cp311-macosx_11_0_arm64.whl (270 kB)\n",
      "Using cached cycler-0.12.1-py3-none-any.whl (8.3 kB)\n",
      "Downloading fonttools-4.59.1-cp311-cp311-macosx_10_9_universal2.whl (2.8 MB)\n",
      "\u001b[2K   \u001b[90m━━━━━━━━━━━━━━━━━━━━━━━━━━━━━━━━━━━━━━━━\u001b[0m \u001b[32m2.8/2.8 MB\u001b[0m \u001b[31m11.0 MB/s\u001b[0m  \u001b[33m0:00:00\u001b[0m eta \u001b[36m0:00:01\u001b[0m\n",
      "\u001b[?25hUsing cached joblib-1.5.1-py3-none-any.whl (307 kB)\n",
      "Downloading kiwisolver-1.4.9-cp311-cp311-macosx_11_0_arm64.whl (65 kB)\n",
      "Downloading pillow-11.3.0-cp311-cp311-macosx_11_0_arm64.whl (4.7 MB)\n",
      "\u001b[2K   \u001b[90m━━━━━━━━━━━━━━━━━━━━━━━━━━━━━━━━━━━━━━━━\u001b[0m \u001b[32m4.7/4.7 MB\u001b[0m \u001b[31m11.4 MB/s\u001b[0m  \u001b[33m0:00:00\u001b[0m eta \u001b[36m0:00:01\u001b[0m\n",
      "\u001b[?25hUsing cached pyparsing-3.2.3-py3-none-any.whl (111 kB)\n",
      "Using cached pytz-2025.2-py2.py3-none-any.whl (509 kB)\n",
      "Downloading scipy-1.16.1-cp311-cp311-macosx_14_0_arm64.whl (20.9 MB)\n",
      "\u001b[2K   \u001b[90m━━━━━━━━━━━━━━━━━━━━━━━━━━━━━━━━━━━━━━━━\u001b[0m \u001b[32m20.9/20.9 MB\u001b[0m \u001b[31m11.1 MB/s\u001b[0m  \u001b[33m0:00:01\u001b[0mm0:00:01\u001b[0m00:01\u001b[0m\n",
      "\u001b[?25hUsing cached threadpoolctl-3.6.0-py3-none-any.whl (18 kB)\n",
      "Using cached tzdata-2025.2-py2.py3-none-any.whl (347 kB)\n",
      "Installing collected packages: pytz, tzdata, threadpoolctl, pyparsing, pillow, numpy, kiwisolver, joblib, fonttools, cycler, scipy, pandas, contourpy, scikit-learn, matplotlib\n",
      "\u001b[2K   \u001b[90m━━━━━━━━━━━━━━━━━━━━━━━━━━━━━━━━━━━━━━━━\u001b[0m \u001b[32m15/15\u001b[0m [matplotlib]5\u001b[0m [matplotlib]n]\n",
      "\u001b[1A\u001b[2KSuccessfully installed contourpy-1.3.3 cycler-0.12.1 fonttools-4.59.1 joblib-1.5.1 kiwisolver-1.4.9 matplotlib-3.10.5 numpy-2.3.2 pandas-2.3.2 pillow-11.3.0 pyparsing-3.2.3 pytz-2025.2 scikit-learn-1.7.1 scipy-1.16.1 threadpoolctl-3.6.0 tzdata-2025.2\n"
     ]
    }
   ],
   "source": [
    "# Install required packages\n",
    "!pip install numpy pandas scikit-learn matplotlib"
   ]
  },
  {
   "cell_type": "code",
   "execution_count": 33,
   "id": "fefae48b-1b9b-41b0-a916-59e940493e51",
   "metadata": {},
   "outputs": [
    {
     "ename": "ImportError",
     "evalue": "cannot import name 'plot_confusion_matrix' from 'sklearn.metrics' (/Users/satkarkarki/.venv/lib/python3.11/site-packages/sklearn/metrics/__init__.py)",
     "output_type": "error",
     "traceback": [
      "\u001b[31m---------------------------------------------------------------------------\u001b[39m",
      "\u001b[31mImportError\u001b[39m                               Traceback (most recent call last)",
      "\u001b[36mCell\u001b[39m\u001b[36m \u001b[39m\u001b[32mIn[33]\u001b[39m\u001b[32m, line 26\u001b[39m\n\u001b[32m     24\u001b[39m \u001b[38;5;28;01mfrom\u001b[39;00m\u001b[38;5;250m \u001b[39m\u001b[34;01msklearn\u001b[39;00m\u001b[34;01m.\u001b[39;00m\u001b[34;01mmetrics\u001b[39;00m\u001b[38;5;250m \u001b[39m\u001b[38;5;28;01mimport\u001b[39;00m accuracy_score\n\u001b[32m     25\u001b[39m \u001b[38;5;28;01mfrom\u001b[39;00m\u001b[38;5;250m \u001b[39m\u001b[34;01msklearn\u001b[39;00m\u001b[34;01m.\u001b[39;00m\u001b[34;01mmetrics\u001b[39;00m\u001b[38;5;250m \u001b[39m\u001b[38;5;28;01mimport\u001b[39;00m confusion_matrix\n\u001b[32m---> \u001b[39m\u001b[32m26\u001b[39m \u001b[38;5;28;01mfrom\u001b[39;00m\u001b[38;5;250m \u001b[39m\u001b[34;01msklearn\u001b[39;00m\u001b[34;01m.\u001b[39;00m\u001b[34;01mmetrics\u001b[39;00m\u001b[38;5;250m \u001b[39m\u001b[38;5;28;01mimport\u001b[39;00m plot_confusion_matrix\n\u001b[32m     27\u001b[39m \u001b[38;5;28;01mfrom\u001b[39;00m\u001b[38;5;250m \u001b[39m\u001b[34;01msklearn\u001b[39;00m\u001b[38;5;250m \u001b[39m\u001b[38;5;28;01mimport\u001b[39;00m metrics\n\u001b[32m     29\u001b[39m \u001b[38;5;66;03m# import time function from time module to track the training duration\u001b[39;00m\n",
      "\u001b[31mImportError\u001b[39m: cannot import name 'plot_confusion_matrix' from 'sklearn.metrics' (/Users/satkarkarki/.venv/lib/python3.11/site-packages/sklearn/metrics/__init__.py)"
     ]
    }
   ],
   "source": [
    "import warnings\n",
    "warnings.filterwarnings('ignore')\n",
    "\n",
    "import numpy as np\n",
    "import pandas as pd\n",
    "\n",
    "# matplotlib imports are used to plot confusion matrices for the classifiers\n",
    "import matplotlib.pyplot as plt\n",
    "\n",
    "# import feature extraction methods from sklearn\n",
    "from sklearn.feature_extraction.text import CountVectorizer\n",
    "\n",
    "# pre-processing of text\n",
    "import string\n",
    "import re\n",
    "\n",
    "# import classifiers from sklearn\n",
    "from sklearn.naive_bayes import MultinomialNB\n",
    "from sklearn.linear_model import LogisticRegression\n",
    "from sklearn.svm import LinearSVC\n",
    "\n",
    "# import different metrics to evaluate the classifiers\n",
    "from sklearn.metrics import roc_auc_score\n",
    "from sklearn.metrics import accuracy_score\n",
    "from sklearn.metrics import confusion_matrix\n",
    "from sklearn.metrics import plot_confusion_matrix\n",
    "from sklearn import metrics\n",
    "\n",
    "# import time function from time module to track the training duration\n",
    "from time import time"
   ]
  },
  {
   "cell_type": "markdown",
   "id": "04a89f12-776c-4d99-a3de-3acbec5d2e37",
   "metadata": {},
   "source": [
    "## 1. Load and explore the dataset"
   ]
  },
  {
   "cell_type": "code",
   "execution_count": 5,
   "id": "28d001a2-6014-4dce-85d3-1475554cc8d0",
   "metadata": {},
   "outputs": [
    {
     "name": "stdout",
     "output_type": "stream",
     "text": [
      "File exists: True\n",
      "\n",
      "Files in Data directory:\n",
      "['Full-Economic-News-DFE-839861.csv', '.DS_Store', 'TextClassification-checkpoint.ipynb', 'README.md', '.ipynb_checkpoints', 'data']\n"
     ]
    }
   ],
   "source": [
    "import os\n",
    "\n",
    "# Check if the file exists\n",
    "file_path = \"/Users/satkarkarki/Desktop/usd/Learning/practical-nlp/my-lab/text-classification/simple-ml-algorithms/Full-Economic-News-DFE-839861.csv\"\n",
    "print(\"File exists:\", os.path.exists(file_path))\n",
    "\n",
    "# List files in the Data directory to see what's available\n",
    "data_dir = \"/Users/satkarkarki/Desktop/usd/Learning/practical-nlp/my-lab/text-classification/simple-ml-algorithms\"\n",
    "print(\"\\nFiles in Data directory:\")\n",
    "if os.path.exists(data_dir):\n",
    "    print(os.listdir(data_dir))\n",
    "else:\n",
    "    print(\"Data directory not found\")"
   ]
  },
  {
   "cell_type": "code",
   "execution_count": 7,
   "id": "ff9b9122-0e13-4715-a67a-fbd33aa06259",
   "metadata": {},
   "outputs": [
    {
     "name": "stdout",
     "output_type": "stream",
     "text": [
      "Data loaded successfully!\n",
      "Dataset shape: (8000, 15)\n"
     ]
    }
   ],
   "source": [
    "# Load the dataset using the full absolute path\n",
    "our_data = pd.read_csv(\"/Users/satkarkarki/Desktop/usd/Learning/practical-nlp/my-lab/text-classification/simple-ml-algorithms/Full-Economic-News-DFE-839861.csv\", encoding=\"ISO-8859-1\")\n",
    "\n",
    "# Check if it loaded successfully\n",
    "print(\"Data loaded successfully!\")\n",
    "print(\"Dataset shape:\", our_data.shape)"
   ]
  },
  {
   "cell_type": "code",
   "execution_count": 8,
   "id": "7a2b9473-0e56-4cf0-8527-f77ed2bef4ef",
   "metadata": {},
   "outputs": [
    {
     "name": "stdout",
     "output_type": "stream",
     "text": [
      "\n",
      "First few rows:\n",
      "    _unit_id  _golden _unit_state  _trusted_judgments _last_judgment_at  \\\n",
      "0  842613455    False   finalized                   3     12/5/15 17:48   \n",
      "1  842613456    False   finalized                   3     12/5/15 16:54   \n",
      "2  842613457    False   finalized                   3      12/5/15 1:59   \n",
      "3  842613458    False   finalized                   3      12/5/15 2:19   \n",
      "4  842613459    False   finalized                   3     12/5/15 17:48   \n",
      "\n",
      "   positivity  positivity:confidence relevance  relevance:confidence  \\\n",
      "0         3.0                 0.6400       yes                 0.640   \n",
      "1         NaN                    NaN        no                 1.000   \n",
      "2         NaN                    NaN        no                 1.000   \n",
      "3         NaN                 0.0000        no                 0.675   \n",
      "4         3.0                 0.3257       yes                 0.640   \n",
      "\n",
      "       articleid      date                                           headline  \\\n",
      "0  wsj_398217788   8/14/91              Yields on CDs Fell in the Latest Week   \n",
      "1  wsj_399019502   8/21/07  The Morning Brief: White House Seeks to Limit ...   \n",
      "2  wsj_398284048  11/14/91  Banking Bill Negotiators Set Compromise --- Pl...   \n",
      "3  wsj_397959018   6/16/86  Manager's Journal: Sniffing Out Drug Abusers I...   \n",
      "4  wsj_398838054   10/4/02  Currency Trading: Dollar Remains in Tight Rang...   \n",
      "\n",
      "   positivity_gold  relevance_gold  \\\n",
      "0              NaN             NaN   \n",
      "1              NaN             NaN   \n",
      "2              NaN             NaN   \n",
      "3              NaN             NaN   \n",
      "4              NaN             NaN   \n",
      "\n",
      "                                                text  \n",
      "0  NEW YORK -- Yields on most certificates of dep...  \n",
      "1  The Wall Street Journal Online</br></br>The Mo...  \n",
      "2  WASHINGTON -- In an effort to achieve banking ...  \n",
      "3  The statistics on the enormous costs of employ...  \n",
      "4  NEW YORK -- Indecision marked the dollar's ton...  \n"
     ]
    }
   ],
   "source": [
    "# Look at the first few rows\n",
    "print(\"\\nFirst few rows:\")\n",
    "print(our_data.head())"
   ]
  },
  {
   "cell_type": "code",
   "execution_count": 9,
   "id": "c9733556-2191-4b55-aed0-8b0c68a60d1c",
   "metadata": {},
   "outputs": [
    {
     "name": "stdout",
     "output_type": "stream",
     "text": [
      "\n",
      "Column names:\n",
      "['_unit_id', '_golden', '_unit_state', '_trusted_judgments', '_last_judgment_at', 'positivity', 'positivity:confidence', 'relevance', 'relevance:confidence', 'articleid', 'date', 'headline', 'positivity_gold', 'relevance_gold', 'text']\n"
     ]
    }
   ],
   "source": [
    "# Check column names\n",
    "print(\"\\nColumn names:\")\n",
    "print(our_data.columns.tolist())\n"
   ]
  },
  {
   "cell_type": "code",
   "execution_count": 10,
   "id": "16961fa9-4d61-499a-9a79-2951cd91d5e1",
   "metadata": {},
   "outputs": [
    {
     "name": "stdout",
     "output_type": "stream",
     "text": [
      "\n",
      "Unique values in 'relevance' column:\n",
      "relevance\n",
      "no          6571\n",
      "yes         1420\n",
      "not sure       9\n",
      "Name: count, dtype: int64\n"
     ]
    }
   ],
   "source": [
    "# Check the relevance column values\n",
    "print(\"\\nUnique values in 'relevance' column:\")\n",
    "print(our_data[\"relevance\"].value_counts())"
   ]
  },
  {
   "cell_type": "markdown",
   "id": "0ba2ad05-2e0f-4d17-9aad-078a40b7f644",
   "metadata": {},
   "source": [
    "There seems to be a sever imbalance between articles categorized as **relevant to US** while there are also seems to be three categories. We need to clean the dataset by dropping any rows that are labeled as 'not sure' as it is a binary classification task."
   ]
  },
  {
   "cell_type": "code",
   "execution_count": 11,
   "id": "36dd56bc-f8d6-4628-b5a2-8affa6edd12e",
   "metadata": {},
   "outputs": [
    {
     "data": {
      "text/plain": [
       "(7991, 2)"
      ]
     },
     "execution_count": 11,
     "metadata": {},
     "output_type": "execute_result"
    }
   ],
   "source": [
    "# Dropping 'not sure' and converting 'yes/no' labels into a numerical value\n",
    "our_data = our_data[our_data.relevance != \"not sure\"] # removing the data where we don't want relevance=\"not sure\".\n",
    "our_data.shape\n",
    "our_data['relevance'] = our_data.relevance.map({'yes':1, 'no':0}) # relevant is 1, not-relevant is 0. \n",
    "our_data = our_data[[\"text\",\"relevance\"]] # Let us take only the two columns we need.\n",
    "our_data.shape"
   ]
  },
  {
   "cell_type": "markdown",
   "id": "dde4956d-ef83-4424-b0f2-b5002f8a7549",
   "metadata": {},
   "source": [
    "## 2. Text Pre-processing\n",
    "\n",
    "The pre-processing steps involve removing the HTML `<br>` tags, punctuations, numbers, and stopwords. We are using sklearn's list of stopwords.\n",
    "\n",
    "This matters for ML tasks as it reduces noise, and the algorithm focuses on important words."
   ]
  },
  {
   "cell_type": "code",
   "execution_count": 12,
   "id": "5f50aed6-72f3-4267-99bf-26af36f0c994",
   "metadata": {},
   "outputs": [
    {
     "name": "stdout",
     "output_type": "stream",
     "text": [
      "Original: This is a test document with some <br/> tags and punctuation!\n",
      "Cleaned: This test document br tags punctuation\n"
     ]
    }
   ],
   "source": [
    "# Method 2: Use CountVectorizer with stop_words='english'\n",
    "from sklearn.feature_extraction.text import CountVectorizer\n",
    "\n",
    "# Create a vectorizer with English stop words\n",
    "vect = CountVectorizer(stop_words='english')\n",
    "stopwords = vect.get_stop_words()\n",
    "\n",
    "def clean(doc): # doc is a string of text\n",
    "    doc = doc.replace(\"</br>\", \" \") # This text contains a lot of <br/> tags.\n",
    "    doc = \"\".join([char for char in doc if char not in string.punctuation and not char.isdigit()])\n",
    "    doc = \" \".join([token for token in doc.split() if token not in stopwords])\n",
    "    # remove punctuation and numbers\n",
    "    return doc\n",
    "\n",
    "# Test the function\n",
    "test_text = \"This is a test document with some <br/> tags and punctuation!\"\n",
    "print(\"Original:\", test_text)\n",
    "print(\"Cleaned:\", clean(test_text))"
   ]
  },
  {
   "cell_type": "markdown",
   "id": "40c7d545-8423-4b20-be87-1bdadd546df7",
   "metadata": {},
   "source": [
    "## 3. Modeling\n",
    "\n",
    "Now that the dataset is ready, it will be split into training (75%) and test (25%) sets. "
   ]
  },
  {
   "cell_type": "code",
   "execution_count": 13,
   "id": "1ac5b052-87d9-4dc8-92c0-dd5bd99e96e3",
   "metadata": {},
   "outputs": [
    {
     "name": "stdout",
     "output_type": "stream",
     "text": [
      "Training set size: (5993,)\n",
      "Testing set size: (1998,)\n"
     ]
    }
   ],
   "source": [
    "# Step 1: train-test split\n",
    "# Import train_test_split\n",
    "from sklearn.model_selection import train_test_split\n",
    "\n",
    "# Split the data\n",
    "X = our_data.text  # Features (the text)\n",
    "y = our_data.relevance  # Target (0 or 1)\n",
    "\n",
    "# Split into training (75%) and testing (25%) sets\n",
    "X_train, X_test, y_train, y_test = train_test_split(X, y, random_state=1)\n",
    "\n",
    "print(\"Training set size:\", X_train.shape)\n",
    "print(\"Testing set size:\", X_test.shape)"
   ]
  },
  {
   "cell_type": "code",
   "execution_count": 22,
   "id": "682f763a-b6d1-4234-89bd-b10cdfad2965",
   "metadata": {},
   "outputs": [
    {
     "name": "stdout",
     "output_type": "stream",
     "text": [
      "Training features shape: (5993, 5000)\n",
      "Testing features shape: (1998, 5000)\n"
     ]
    }
   ],
   "source": [
    "# Step 2: Feature Extraction (text to numbers)\n",
    "# Create a vectorizer with your cleaning function\n",
    "vect = CountVectorizer(preprocessor=clean, max_features=5000)\n",
    "\n",
    "# Fit on training data and transform both training and test data\n",
    "X_train_dtm = vect.fit_transform(X_train)  # Learn vocabulary from training data\n",
    "X_test_dtm = vect.transform(X_test)        # Use same vocabulary for test data\n",
    "\n",
    "print(\"Training features shape:\", X_train_dtm.shape)\n",
    "print(\"Testing features shape:\", X_test_dtm.shape)"
   ]
  },
  {
   "cell_type": "markdown",
   "id": "b0972c7f-b5c5-40a9-b41c-63a87c12ef55",
   "metadata": {},
   "source": [
    "### Naive Bayes Classifier\n",
    "\n",
    "The first model to be trained on will be the Naive Bayes."
   ]
  },
  {
   "cell_type": "code",
   "execution_count": 25,
   "id": "50f235f7-905f-40aa-b52f-83d969d1b201",
   "metadata": {},
   "outputs": [
    {
     "name": "stdout",
     "output_type": "stream",
     "text": [
      "Model trained successfully!\n"
     ]
    }
   ],
   "source": [
    "# Step 3: Train the model\n",
    "\n",
    "# Create and train the model\n",
    "nb = MultinomialNB()  # Create Naive Bayes classifier\n",
    "nb.fit(X_train_dtm, y_train)  # Train the model\n",
    "\n",
    "# Make predictions\n",
    "y_pred_class = nb.predict(X_test_dtm)  # Predict classes (0 or 1)\n",
    "y_pred_prob = nb.predict_proba(X_test_dtm)[:, 1]  # Predict probabilities\n",
    "\n",
    "print(\"Model trained successfully!\")"
   ]
  },
  {
   "cell_type": "code",
   "execution_count": 29,
   "id": "a81ea94e-2fad-4acd-93dd-919f8b1e9ca0",
   "metadata": {},
   "outputs": [
    {
     "name": "stdout",
     "output_type": "stream",
     "text": [
      "Accuracy: 0.6876876876876877\n",
      "AUC: 0.7282608695652173\n",
      "Confusion Matrix:\n",
      "[[1152  504]\n",
      " [ 120  222]]\n"
     ]
    }
   ],
   "source": [
    "# Step 4: Evaluate the Model\n",
    "\n",
    "#Calculate accuracy\n",
    "print(\"Accuracy:\", accuracy_score(y_test, y_pred_class))\n",
    "\n",
    "# Calculate AUC\n",
    "print(\"AUC:\", roc_auc_score(y_test, y_pred_prob))\n",
    "\n",
    "# Create confusion matrix\n",
    "cnf_matrix = confusion_matrix(y_test, y_pred_class)\n",
    "print(\"Confusion Matrix:\")\n",
    "print(cnf_matrix)"
   ]
  },
  {
   "cell_type": "code",
   "execution_count": 34,
   "id": "cabbc76a-9178-4137-b3ce-5be65d080ab9",
   "metadata": {},
   "outputs": [
    {
     "data": {
      "image/png": "[encoded data removed]",
      "text/plain": [
       "<Figure size 640x480 with 2 Axes>"
      ]
     },
     "metadata": {},
     "output_type": "display_data"
    }
   ],
   "source": [
    "from sklearn.metrics import ConfusionMatrixDisplay\n",
    "\n",
    "# assuming you have cnf_matrix and your model, X_test, y_test\n",
    "ConfusionMatrixDisplay.from_predictions(\n",
    "    y_test, y_pred_class,\n",
    "    display_labels=['Not Relevant', 'Relevant'],\n",
    "    cmap=plt.cm.Blues,\n",
    "    normalize='true'\n",
    ")\n",
    "plt.title('Confusion Matrix with max 5000 features')\n",
    "plt.show()\n"
   ]
  },
  {
   "cell_type": "markdown",
   "id": "845b474b-1e0d-4805-9131-9c75fa16a318",
   "metadata": {},
   "source": [
    "### Logistic Regression"
   ]
  },
  {
   "cell_type": "code",
   "execution_count": 36,
   "id": "fa898e00-9426-44af-b2ab-3fc9a3edb7ce",
   "metadata": {},
   "outputs": [
    {
     "name": "stdout",
     "output_type": "stream",
     "text": [
      "=== Logistic Regression Results ===\n",
      "Accuracy: 0.7362362362362362\n",
      "AUC: 0.6585939486397152\n"
     ]
    },
    {
     "data": {
      "image/png": "[encoded data removed]",
      "text/plain": [
       "<Figure size 640x480 with 1 Axes>"
      ]
     },
     "metadata": {},
     "output_type": "display_data"
    }
   ],
   "source": [
    "# Import Logistic Regression\n",
    "from sklearn.linear_model import LogisticRegression\n",
    "from sklearn.metrics import accuracy_score, roc_auc_score, confusion_matrix, ConfusionMatrixDisplay\n",
    "\n",
    "# Create and train Logistic Regression with balanced class weights\n",
    "logreg = LogisticRegression(class_weight=\"balanced\", random_state=1)\n",
    "logreg.fit(X_train_dtm, y_train)\n",
    "\n",
    "# Make predictions\n",
    "y_pred_class_lr = logreg.predict(X_test_dtm)\n",
    "y_pred_prob_lr = logreg.predict_proba(X_test_dtm)[:, 1]\n",
    "\n",
    "# Evaluate the model\n",
    "print(\"=== Logistic Regression Results ===\")\n",
    "print(\"Accuracy:\", accuracy_score(y_test, y_pred_class_lr))\n",
    "print(\"AUC:\", roc_auc_score(y_test, y_pred_prob_lr))\n",
    "\n",
    "# Confusion Matrix\n",
    "cnf_matrix_lr = confusion_matrix(y_test, y_pred_class_lr)\n",
    "\n",
    "# Plot Confusion Matrix (Normalized)\n",
    "disp = ConfusionMatrixDisplay(confusion_matrix=cnf_matrix_lr, display_labels=['Not Relevant', 'Relevant'])\n",
    "disp.plot(cmap=plt.cm.Blues, colorbar=False)\n",
    "plt.title('Logistic Regression – Confusion Matrix')\n",
    "plt.show()\n"
   ]
  },
  {
   "cell_type": "markdown",
   "id": "1eb46a86-46d6-4e85-96e0-651ca6deef98",
   "metadata": {},
   "source": [
    "### Support Vector Machine\n",
    "\n",
    "- Since SVM takes time train, the feature size will be kept 1,000 instead of 5,000."
   ]
  },
  {
   "cell_type": "code",
   "execution_count": 38,
   "id": "11ea7416-9e7e-41f0-8bd0-5166e7d1ef6f",
   "metadata": {
    "scrolled": true
   },
   "outputs": [
    {
     "name": "stdout",
     "output_type": "stream",
     "text": [
      "=== Feature Reduction ===\n",
      "Original features: 5000\n",
      "Reduced features:  1000\n",
      "Training shape: (5993, 1000)\n",
      "Testing shape:  (1998, 1000)\n",
      "\n",
      "=== SVM Results (1000 features) ===\n",
      "Accuracy: 0.6836836836836837\n",
      "AUC: 0.6732509110941606\n"
     ]
    },
    {
     "data": {
      "image/png": "[encoded data removed]",
      "text/plain": [
       "<Figure size 640x480 with 1 Axes>"
      ]
     },
     "metadata": {},
     "output_type": "display_data"
    }
   ],
   "source": [
    "# Import SVM\n",
    "from sklearn.svm import LinearSVC\n",
    "from sklearn.metrics import (\n",
    "    accuracy_score, roc_auc_score, confusion_matrix, ConfusionMatrixDisplay\n",
    ")\n",
    "import matplotlib.pyplot as plt\n",
    "\n",
    "# Step 1: Create new vectorizer with 1000 features\n",
    "vect_1000 = CountVectorizer(preprocessor=clean, max_features=1000)\n",
    "\n",
    "# Step 2: Transform data with reduced features\n",
    "X_train_dtm_1000 = vect_1000.fit_transform(X_train)\n",
    "X_test_dtm_1000  = vect_1000.transform(X_test)\n",
    "\n",
    "print(\"=== Feature Reduction ===\")\n",
    "print(\"Original features:\", X_train_dtm.shape[1])\n",
    "print(\"Reduced features: \", X_train_dtm_1000.shape[1])\n",
    "print(\"Training shape:\", X_train_dtm_1000.shape)\n",
    "print(\"Testing shape: \", X_test_dtm_1000.shape)\n",
    "\n",
    "# Step 3: Train SVM with balanced class weights\n",
    "svm = LinearSVC(class_weight=\"balanced\", random_state=1)\n",
    "svm.fit(X_train_dtm_1000, y_train)\n",
    "\n",
    "# Step 4: Predictions and scores\n",
    "y_pred_class_svm = svm.predict(X_test_dtm_1000)\n",
    "# decision_function gives continuous scores suitable for AUC/ROC\n",
    "y_scores_svm = svm.decision_function(X_test_dtm_1000)\n",
    "\n",
    "# Step 5: Evaluate\n",
    "print(\"\\n=== SVM Results (1000 features) ===\")\n",
    "print(\"Accuracy:\", accuracy_score(y_test, y_pred_class_svm))\n",
    "print(\"AUC:\", roc_auc_score(y_test, y_scores_svm))\n",
    "\n",
    "# Step 6: Confusion matrix plot (sklearn 1.3+)\n",
    "cm_svm = confusion_matrix(y_test, y_pred_class_svm)\n",
    "disp = ConfusionMatrixDisplay(confusion_matrix=cm_svm,\n",
    "                              display_labels=['Not Relevant','Relevant'])\n",
    "disp.plot(cmap=plt.cm.Blues, colorbar=False)\n",
    "plt.title('SVM – Confusion Matrix (1000 features)')\n",
    "plt.show()\n"
   ]
  },
  {
   "cell_type": "markdown",
   "id": "aeadb115-a1fe-40e4-9419-015fc5ae315e",
   "metadata": {},
   "source": [
    "### Complete Model Comparision"
   ]
  },
  {
   "cell_type": "code",
   "execution_count": 39,
   "id": "6ad40aab-13ed-4a83-a0ff-17d446bb81a0",
   "metadata": {},
   "outputs": [
    {
     "name": "stdout",
     "output_type": "stream",
     "text": [
      "=== Complete Model Comparison ===\n",
      "Naive Bayes (5000 features):\n",
      "  Accuracy: 0.6876876876876877\n",
      "  AUC: 0.7282608695652173\n",
      "\n",
      "Logistic Regression (5000 features):\n",
      "  Accuracy: 0.7362362362362362\n",
      "  AUC: 0.6585939486397152\n",
      "\n",
      "SVM (1000 features):\n",
      "  Accuracy: 0.6836836836836837\n",
      "  AUC: Not available (LinearSVC doesn't provide probabilities)\n"
     ]
    }
   ],
   "source": [
    "# Compare all three models\n",
    "print(\"=== Complete Model Comparison ===\")\n",
    "print(\"Naive Bayes (5000 features):\")\n",
    "print(\"  Accuracy:\", accuracy_score(y_test, y_pred_class))\n",
    "print(\"  AUC:\", roc_auc_score(y_test, y_pred_prob))\n",
    "\n",
    "print(\"\\nLogistic Regression (5000 features):\")\n",
    "print(\"  Accuracy:\", accuracy_score(y_test, y_pred_class_lr))\n",
    "print(\"  AUC:\", roc_auc_score(y_test, y_pred_prob_lr))\n",
    "\n",
    "print(\"\\nSVM (1000 features):\")\n",
    "print(\"  Accuracy:\", accuracy_score(y_test, y_pred_class_svm))\n",
    "print(\"  AUC: Not available (LinearSVC doesn't provide probabilities)\")"
   ]
  },
  {
   "cell_type": "code",
   "execution_count": 41,
   "id": "83c363bb-8835-48a6-901c-627b8b24878e",
   "metadata": {},
   "outputs": [
    {
     "data": {
      "image/png": "[encoded data removed]",
      "text/plain": [
       "<Figure size 1500x500 with 3 Axes>"
      ]
     },
     "metadata": {},
     "output_type": "display_data"
    }
   ],
   "source": [
    "import matplotlib.pyplot as plt\n",
    "\n",
    "# Data from your results\n",
    "models = ['Naive Bayes', 'Logistic Regression)', 'SVM']\n",
    "accuracy = [0.6877, 0.7362, 0.6837]\n",
    "auc = [0.7283, 0.6586, None]  # None for SVM since no AUC\n",
    "\n",
    "# Create a figure with 3 tiles\n",
    "fig, axes = plt.subplots(1, 3, figsize=(15, 5))\n",
    "\n",
    "# Colors\n",
    "colors = ['#5DADE2', '#58D68D', '#F5B041']\n",
    "\n",
    "# Loop through tiles\n",
    "for i, ax in enumerate(axes):\n",
    "    ax.set_facecolor(\"#F8F9F9\")\n",
    "    ax.barh(['Accuracy'], [accuracy[i]], color=colors[i])\n",
    "    ax.set_xlim(0, 1)\n",
    "    ax.set_title(models[i], fontsize=12, weight='bold', pad=10)\n",
    "    ax.barh(['AUC'], [auc[i] if auc[i] else 0], color=colors[i], alpha=0.6)\n",
    "    \n",
    "    # Add text\n",
    "    ax.text(accuracy[i]+0.02, 0, f\"{accuracy[i]:.2f}\", va='center', fontsize=10)\n",
    "    if auc[i]:\n",
    "        ax.text(auc[i]+0.02, 1, f\"{auc[i]:.2f}\", va='center', fontsize=10)\n",
    "    else:\n",
    "        ax.text(0.5, 1, \"N/A\", va='center', fontsize=10, color=\"red\", ha=\"center\")\n",
    "    \n",
    "    ax.set_yticks([0,1])\n",
    "    ax.set_yticklabels(['Accuracy', 'AUC'])\n",
    "\n",
    "plt.suptitle(\"Model Performance Comparison\", fontsize=14, weight='bold')\n",
    "plt.tight_layout()\n",
    "plt.show()\n"
   ]
  },
  {
   "cell_type": "markdown",
   "id": "1a4ebafb",
   "metadata": {},
   "source": [
    "- Logistic Regression wins for overall accuracy\n",
    "- Naive Bayes wins for class separation (highest AUC)\n",
    "- SVM is efficient: good performance with fewer features\n",
    "- Class imbalance affects all models (82% vs 18%)"
   ]
  }
 ],
 "metadata": {
  "kernelspec": {
   "display_name": "Python (latest)",
   "language": "python",
   "name": "python3"
  },
  "language_info": {
   "codemirror_mode": {
    "name": "ipython",
    "version": 3
   },
   "file_extension": ".py",
   "mimetype": "text/x-python",
   "name": "python",
   "nbconvert_exporter": "python",
   "pygments_lexer": "ipython3",
   "version": "3.11.5"
  }
 },
 "nbformat": 4,
 "nbformat_minor": 5
}
